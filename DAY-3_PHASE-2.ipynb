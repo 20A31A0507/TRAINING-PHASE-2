{
  "nbformat": 4,
  "nbformat_minor": 0,
  "metadata": {
    "colab": {
      "provenance": []
    },
    "kernelspec": {
      "name": "python3",
      "display_name": "Python 3"
    },
    "language_info": {
      "name": "python"
    }
  },
  "cells": [
    {
      "cell_type": "markdown",
      "source": [
        "**REVERSING FIRST HALF OF THE LINKED LIST**"
      ],
      "metadata": {
        "id": "o6CSzqYVt3iy"
      }
    },
    {
      "cell_type": "code",
      "source": [
        "class Node:\n",
        "    def __init__(self,value):\n",
        "        self.data=value\n",
        "        self.next=None\n",
        "class LinkedList:\n",
        "    def add_ele_at_end(self,head,value):\n",
        "        new_node=Node(value)   \n",
        "        temp=head\n",
        "        while temp.next!=None: \n",
        "            temp=temp.next\n",
        "        temp.next=new_node       \n",
        "    def print_list(self,head):\n",
        "        temp=head\n",
        "        while temp!=None:\n",
        "            print(temp.data,end=\"->\")\n",
        "            temp=temp.next\n",
        "        print()\n",
        "    def print_rev_half_list(self,head):\n",
        "        curr=head\n",
        "        prev=None\n",
        "        count=0\n",
        "        while curr!=None:\n",
        "            curr=curr.next\n",
        "            count+=1\n",
        "        curr=head\n",
        "        for i in range((count+1)//2):\n",
        "            temp=curr.next\n",
        "            curr.next=prev\n",
        "            prev=curr\n",
        "            curr=temp\n",
        "        return prev\n",
        "obj=LinkedList()\n",
        "head=Node(10)\n",
        "obj.add_ele_at_end(head,20)\n",
        "obj.add_ele_at_end(head,30)\n",
        "obj.add_ele_at_end(head,40)\n",
        "obj.print_list(head)\n",
        "head=obj.print_rev_half_list(head)\n",
        "obj.print_list(head)"
      ],
      "metadata": {
        "colab": {
          "base_uri": "https://localhost:8080/"
        },
        "id": "1tofY8Fit-8e",
        "outputId": "1d075ecc-2c1c-4a0b-f47d-7348e560a5a3"
      },
      "execution_count": null,
      "outputs": [
        {
          "output_type": "stream",
          "name": "stdout",
          "text": [
            "10->20->30->40->\n",
            "20->10->\n"
          ]
        }
      ]
    },
    {
      "cell_type": "markdown",
      "source": [
        "**DOUBLE LINKED LIST**"
      ],
      "metadata": {
        "id": "39Yl2n-uuLsF"
      }
    },
    {
      "cell_type": "code",
      "source": [
        "class Node:\n",
        "    def __init__(self,value):\n",
        "        self.data=value\n",
        "        self.next=None\n",
        "        self.prev=None\n",
        "class DoubleLinkedList:\n",
        "    def add_ele(self,head,value):\n",
        "        new_node=Node(value)\n",
        "        temp=head\n",
        "        while temp.next!=None: \n",
        "            temp=temp.next\n",
        "        temp.next=new_node\n",
        "        new_node.prev=temp\n",
        "    def remove_ele_at_start(self,head):\n",
        "        temp=head\n",
        "        head=temp.next\n",
        "        head.prev=None\n",
        "        temp.next=None\n",
        "        return head\n",
        "    def remove_ele_at_end(self,head):\n",
        "        temp=head\n",
        "        while temp.next.next!=None:\n",
        "            temp=temp.next\n",
        "        temp.next.prev=None\n",
        "        temp.next=None\n",
        "    def print_list(self,head):\n",
        "        temp=head\n",
        "        while temp!=None:\n",
        "            print(temp.data,end=\"->\")\n",
        "            temp=temp.next\n",
        "        print()\n",
        "    def print_rev_list(self,head):\n",
        "        temp=head\n",
        "        while temp.next!=None:\n",
        "            temp=temp.next\n",
        "        while temp!=None:\n",
        "            print(temp.data,end=\"->\")\n",
        "            temp=temp.prev\n",
        "        print()\n",
        "obj=DoubleLinkedList()\n",
        "head=Node(10)\n",
        "obj.add_ele(head,20)\n",
        "obj.add_ele(head,30)\n",
        "obj.add_ele(head,40)\n",
        "obj.print_list(head)\n",
        "obj.print_rev_list(head)\n",
        "obj.remove_ele_at_end(head)\n",
        "obj.print_list(head)\n",
        "obj.remove_ele_at_start(head)\n",
        "obj.print_list(head)"
      ],
      "metadata": {
        "colab": {
          "base_uri": "https://localhost:8080/"
        },
        "id": "h3suN0F_uSdR",
        "outputId": "3afb86b9-ff34-4832-e73f-2011173ef4ce"
      },
      "execution_count": null,
      "outputs": [
        {
          "output_type": "stream",
          "name": "stdout",
          "text": [
            "10->20->30->40->\n",
            "40->30->20->10->\n",
            "10->20->30->\n",
            "10->\n"
          ]
        }
      ]
    },
    {
      "cell_type": "markdown",
      "source": [
        "**NO. OF PRIMES IN A LINKED LIST**"
      ],
      "metadata": {
        "id": "1OpKHjg6uerH"
      }
    },
    {
      "cell_type": "code",
      "source": [
        "class Node:\n",
        "    def __init__(self,value):\n",
        "        self.data=value\n",
        "        self.next=None\n",
        "class LinkedList:\n",
        "    def add_ele(self,head,value):\n",
        "        new_node=Node(value)\n",
        "        temp=head\n",
        "        while temp.next!=None:\n",
        "            temp=temp.next\n",
        "        temp.next=new_node\n",
        "    def print_list(self,head):\n",
        "        temp=head\n",
        "        while temp!=None:\n",
        "            print(temp.data,end=\"->\")\n",
        "            temp=temp.next\n",
        "        print()\n",
        "    def check_primes(self,head):\n",
        "        temp=head\n",
        "        count=0\n",
        "        ans=0\n",
        "        while temp!=None:\n",
        "            num=temp.data\n",
        "            if num <= 1:\n",
        "                continue\n",
        "            for i in range(2, num):\n",
        "                if (num % i) == 0:\n",
        "                    break\n",
        "            else:\n",
        "                count += 1\n",
        "            temp=temp.next\n",
        "        print(count)\n",
        "obj=LinkedList()\n",
        "head=Node(5)\n",
        "obj.add_ele(head,10)\n",
        "obj.add_ele(head,15)\n",
        "obj.add_ele(head,13)\n",
        "obj.add_ele(head,7)\n",
        "obj.add_ele(head,11)\n",
        "obj.print_list(head)\n",
        "obj.check_primes(head)"
      ],
      "metadata": {
        "colab": {
          "base_uri": "https://localhost:8080/"
        },
        "id": "d0kdVocrukd1",
        "outputId": "02d44b0c-fbbf-47bd-c750-31d96d4ea806"
      },
      "execution_count": null,
      "outputs": [
        {
          "output_type": "stream",
          "name": "stdout",
          "text": [
            "5->10->15->13->7->11->\n",
            "4\n"
          ]
        }
      ]
    },
    {
      "cell_type": "markdown",
      "source": [
        "**TREES**\n",
        "\n",
        "BINARY TREES-ATMOST TWO CHILDREN\n",
        "\n",
        "BINARY SEARCH TREES-LEFT NODE LESSER THAN ROOT AND RIGHT NODE GREATER THAN ROOT\n",
        "\n",
        "**TRAVERSAL TECHNIQUES:**\n",
        "\n",
        "INORDER:LEFT-ROOT-RIGHT\n",
        "\n",
        "PREORDER:ROOT-LEFT-RIGHT\n",
        "\n",
        "POSTORDER:LEFT-RIGHT-ROOT\n",
        "\n",
        "LEVELORDER:ALL ELE OF A LEVEL"
      ],
      "metadata": {
        "id": "sdJzchD1uwka"
      }
    },
    {
      "cell_type": "markdown",
      "source": [
        "EXAMPLE:\n",
        "\n",
        "                      10\n",
        "               \n",
        "               7              40\n",
        "            \n",
        "            5    9          15   60"
      ],
      "metadata": {
        "id": "woca5BCcvLZR"
      }
    },
    {
      "cell_type": "code",
      "source": [
        "class Node:\n",
        "    def __init__(self,value):\n",
        "        self.data=value\n",
        "        self.left=None\n",
        "        self.right=None\n",
        "class BST:\n",
        "    def add_ele(self,root,value):\n",
        "        new_node=Node(value)\n",
        "        if new_node.data<root.data:\n",
        "            if root.left!=None:\n",
        "                self.add_ele(root.left,value)\n",
        "            else:\n",
        "                root.left=new_node\n",
        "        else:\n",
        "            if root.right!=None:\n",
        "                self.add_ele(root.right,value)\n",
        "            else:\n",
        "                root.right=new_node\n",
        "    def inorder(self,root):\n",
        "        if root.left!=None:\n",
        "            self.inorder(root.left)\n",
        "        print(root.data,end=\" \")\n",
        "        if root.right!=None:\n",
        "            self.inorder(root.right)\n",
        "    def preorder(self,root):\n",
        "        print(root.data,end=\" \")\n",
        "        if root.left!=None:\n",
        "            self.preorder(root.left)\n",
        "        if root.right!=None:\n",
        "            self.preorder(root.right)\n",
        "    def postorder(self,root):\n",
        "        if root.left!=None:\n",
        "            self.postorder(root.left)\n",
        "        if root.right!=None:\n",
        "            self.postorder(root.right)\n",
        "        print(root.data,end=\" \")\n",
        "    def levelorder(self,root):\n",
        "        q=[]\n",
        "        q.append(root)\n",
        "        while len(q)!=0:\n",
        "            ele=q.pop(0)\n",
        "            print(ele.data,end=\" \")\n",
        "            if ele.left:\n",
        "                q.append(ele.left)\n",
        "            if ele.right:\n",
        "                q.append(ele.right)\n",
        "obj=BST()\n",
        "root=Node(10)\n",
        "obj.add_ele(root,7)\n",
        "obj.add_ele(root,40)\n",
        "obj.add_ele(root,5)\n",
        "obj.add_ele(root,9)\n",
        "obj.add_ele(root,15)\n",
        "obj.add_ele(root,60)\n",
        "print(\"INORDER TRAVERSAL:\")\n",
        "obj.inorder(root)\n",
        "print()\n",
        "print(\"PREORDER TRAVERSAL:\")\n",
        "obj.preorder(root)\n",
        "print()\n",
        "print(\"POSTORDER TRAVERSAL:\")\n",
        "obj.postorder(root)\n",
        "print()\n",
        "print(\"LEVELORDER TRAVERSAL:\")\n",
        "obj.levelorder(root)"
      ],
      "metadata": {
        "colab": {
          "base_uri": "https://localhost:8080/"
        },
        "id": "JNo9PUhXvXG0",
        "outputId": "7ad4cccc-765c-42e3-afe6-b6371827ec57"
      },
      "execution_count": null,
      "outputs": [
        {
          "output_type": "stream",
          "name": "stdout",
          "text": [
            "INORDER TRAVERSAL:\n",
            "5 7 9 10 15 40 60 \n",
            "PREORDER TRAVERSAL:\n",
            "10 7 5 9 40 15 60 \n",
            "POSTORDER TRAVERSAL:\n",
            "5 9 7 15 60 40 10 \n",
            "LEVELORDER TRAVERSAL:\n",
            "10 7 40 5 9 15 60 "
          ]
        }
      ]
    }
  ]
}