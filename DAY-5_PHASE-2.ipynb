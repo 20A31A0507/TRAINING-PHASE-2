{
  "nbformat": 4,
  "nbformat_minor": 0,
  "metadata": {
    "colab": {
      "provenance": []
    },
    "kernelspec": {
      "name": "python3",
      "display_name": "Python 3"
    },
    "language_info": {
      "name": "python"
    }
  },
  "cells": [
    {
      "cell_type": "markdown",
      "source": [
        "**MERGE SORT**\n",
        "\n",
        "works by dividing an array into smaller subarrays, sorting each subarray, and then merging the sorted subarrays back together to form the final sorted array"
      ],
      "metadata": {
        "id": "MJzW3LIUxE7I"
      }
    },
    {
      "cell_type": "code",
      "source": [
        "def merge_sort(arr,left,right):\n",
        "    mid=(left+right)//2\n",
        "    \n",
        "def merge(arr,left,right,mid):\n",
        "    left_ind=0\n",
        "    right_ind=0\n",
        "    ind=0\n",
        "    while left_ind<len(left_arr) and right_ind<len(right_arr):\n",
        "        if left_arr[left_ind]<=right_arr[right_ind]:\n",
        "            arr[ind]=left_arr[left_ind]\n",
        "            left_ind+=1\n",
        "        else:\n",
        "            arr[ind]=right_arr[right_ind]\n",
        "            right_ind+=1\n",
        "        ind+=1\n",
        "    while left_ind<len(left_arr):\n",
        "        arr[ind]=left_arr[left_ind]\n",
        "        left_ind+=1\n",
        "        ind+=1\n",
        "    while right_ind<len(right_arr):\n",
        "        arr[ind]=right_arr[right_ind]\n",
        "        right_ind+=1\n",
        "        ind+=1  "
      ],
      "metadata": {
        "id": "8zTXpwvhxml8"
      },
      "execution_count": null,
      "outputs": []
    },
    {
      "cell_type": "markdown",
      "source": [
        "**QUICK SORT**\n",
        "\n"
      ],
      "metadata": {
        "id": "5jb3IjJayN3K"
      }
    },
    {
      "cell_type": "code",
      "source": [
        "def quick_sort(arr):\n",
        "    if len(arr)<=1:\n",
        "        return arr\n",
        "    pivot=arr[0]\n",
        "    left_arr=[i for i in arr[1:] if i<=pivot]\n",
        "    right_arr=[i for i in arr[1:] if i>pivot]\n",
        "    return quick_sort(left_arr)+[pivot]+quick_sort(right_arr)\n",
        "arr=[30,20,50,40,10,20]\n",
        "print(arr)\n",
        "res=quick_sort(arr)\n",
        "print(res)   "
      ],
      "metadata": {
        "colab": {
          "base_uri": "https://localhost:8080/"
        },
        "id": "HzgRkNX0yrBP",
        "outputId": "9bfebdd8-1553-487b-de79-0bc27f440d7b"
      },
      "execution_count": null,
      "outputs": [
        {
          "output_type": "stream",
          "name": "stdout",
          "text": [
            "[30, 20, 50, 40, 10, 20]\n",
            "[10, 20, 20, 30, 40, 50]\n"
          ]
        }
      ]
    },
    {
      "cell_type": "markdown",
      "source": [
        "**BFS(BREADTH FIRST SEARCH)**"
      ],
      "metadata": {
        "id": "RPzbJMg1y2Ua"
      }
    },
    {
      "cell_type": "code",
      "source": [
        "def BFS(graph,start):\n",
        "    q=[start]\n",
        "    visited=[start]\n",
        "    while len(q)!=0:\n",
        "        ele=q.pop(0)\n",
        "        print(ele,end=\"->\")\n",
        "        for i in graph[ele]:\n",
        "            if i not in visited:\n",
        "                q.append(i)\n",
        "                visited.append(i)\n",
        "graph_ele={\n",
        "    \"a\":[\"b\",\"c\"],\n",
        "    \"b\":[\"a\",\"d\"],\n",
        "    \"c\":[\"a\",\"d\"],\n",
        "    \"d\":[\"e\"],\n",
        "    \"e\":[\"d\"]   \n",
        "}\n",
        "BFS(graph_ele,\"a\")"
      ],
      "metadata": {
        "colab": {
          "base_uri": "https://localhost:8080/"
        },
        "id": "seFq26DUzAl4",
        "outputId": "dc11402d-05db-47e4-b25d-bf86139e5b8c"
      },
      "execution_count": null,
      "outputs": [
        {
          "output_type": "stream",
          "name": "stdout",
          "text": [
            "a->b->c->d->e->"
          ]
        }
      ]
    }
  ]
}