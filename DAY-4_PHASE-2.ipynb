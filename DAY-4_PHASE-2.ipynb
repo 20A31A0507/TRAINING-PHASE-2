{
  "nbformat": 4,
  "nbformat_minor": 0,
  "metadata": {
    "colab": {
      "provenance": []
    },
    "kernelspec": {
      "name": "python3",
      "display_name": "Python 3"
    },
    "language_info": {
      "name": "python"
    }
  },
  "cells": [
    {
      "cell_type": "markdown",
      "source": [
        "SEARCHING IN A TREE \n",
        "\n",
        "HEIGHT OF THE TREE \n",
        "\n",
        "SUM OF LEFT AND RIGHT SUBTREE ELEMENTS"
      ],
      "metadata": {
        "id": "D0pi1Cbc0Q16"
      }
    },
    {
      "cell_type": "code",
      "source": [
        "a=0\n",
        "l=[]\n",
        "class Node:\n",
        "  def __init__(self,value):\n",
        "    self.value=value\n",
        "    self.left=None\n",
        "    self.right=None\n",
        "class BSTree:\n",
        "  def __init__(self):\n",
        "    self.ele=False\n",
        "  def add_element(self,root,value):\n",
        "    new_node=Node(value)\n",
        "    if new_node.value<root.value:\n",
        "      if root.left!=None:\n",
        "        self.add_element(root.left,value)\n",
        "      else:\n",
        "        root.left=new_node\n",
        "    else:\n",
        "      if root.right!=None:\n",
        "        self.add_element(root.right,value)\n",
        "      else:\n",
        "        root.right=new_node\n",
        "  def inorder(self,root):\n",
        "    if root.left!=None:\n",
        "      self.inorder(root.left)\n",
        "    print(root.value)\n",
        "    if root.right!=None:\n",
        "      self.inorder(root.right)\n",
        "  def search_element(self,root,key):\n",
        "    if root.value==key:\n",
        "      print('KEY EXITS')\n",
        "      l.append(1)\n",
        "      return\n",
        "    if root.left!=None:\n",
        "      self.search_element(root.left,key)\n",
        "    if root.right!=None:\n",
        "      self.search_element(root.right,key)\n",
        "  def sum(self,root):\n",
        "    sum=root.value\n",
        "    if root.left!=None:\n",
        "      sum+=self.sum(root.left)\n",
        "    if root.right!=None:\n",
        "      sum+=self.sum(root.right)\n",
        "    return sum\n",
        "  def tree_height(self,root):\n",
        "    if root==None:\n",
        "      return -1\n",
        "    return 1+max(self.tree_height(root.left),self.tree_height(root.right))\n",
        "obj=BSTree()\n",
        "root=Node(10)\n",
        "obj.add_element(root,7)\n",
        "obj.add_element(root,40)\n",
        "obj.add_element(root,5)\n",
        "obj.add_element(root,9)\n",
        "obj.add_element(root,15)\n",
        "obj.add_element(root,60)\n",
        "obj.inorder(root)\n",
        "obj.search_element(root,30)\n",
        "if len(l)==0:\n",
        "  print('key doesnot exits')\n",
        "print('sum of left subtree and right subtree:')\n",
        "a=obj.sum(root.left)\n",
        "print(a)\n",
        "b=obj.sum(root.right)\n",
        "print(b)\n",
        "print('Height of tree:')\n",
        "h=obj.tree_height(root)\n",
        "print(h)"
      ],
      "metadata": {
        "colab": {
          "base_uri": "https://localhost:8080/"
        },
        "id": "lSMTEB1a0s0_",
        "outputId": "7d952177-7019-4168-88b9-d2d318b981ac"
      },
      "execution_count": null,
      "outputs": [
        {
          "output_type": "stream",
          "name": "stdout",
          "text": [
            "5\n",
            "7\n",
            "9\n",
            "10\n",
            "15\n",
            "40\n",
            "60\n",
            "key doesnot exits\n",
            "sum of left subtree and right subtree:\n",
            "21\n",
            "115\n",
            "Height of tree:\n",
            "2\n"
          ]
        }
      ]
    },
    {
      "cell_type": "markdown",
      "source": [
        "**SELECTION SORT**"
      ],
      "metadata": {
        "id": "SlVd_6rW1QyN"
      }
    },
    {
      "cell_type": "code",
      "source": [
        "l=list(map(int,input().split(',')))\n",
        "for i in range(len(l)):\n",
        "  a=l[i:]\n",
        "  if l[i]>min(a):\n",
        "    ind=a.index(min(a))\n",
        "    l[ind+i],l[i]=l[i],l[ind+i]\n",
        "print(l)"
      ],
      "metadata": {
        "colab": {
          "base_uri": "https://localhost:8080/"
        },
        "id": "lv3J_SFi1T8X",
        "outputId": "4285fb78-0369-4ae4-bffc-9a0155a87f69"
      },
      "execution_count": null,
      "outputs": [
        {
          "output_type": "stream",
          "name": "stdout",
          "text": [
            "3,2,8,5,6,1\n",
            "[1, 2, 3, 5, 6, 8]\n"
          ]
        }
      ]
    }
  ]
}