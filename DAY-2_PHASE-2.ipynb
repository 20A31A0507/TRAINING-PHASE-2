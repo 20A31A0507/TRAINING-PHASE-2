{
  "nbformat": 4,
  "nbformat_minor": 0,
  "metadata": {
    "colab": {
      "provenance": []
    },
    "kernelspec": {
      "name": "python3",
      "display_name": "Python 3"
    },
    "language_info": {
      "name": "python"
    }
  },
  "cells": [
    {
      "cell_type": "markdown",
      "source": [
        "**REVERSING THE FIRST HALF OF THE STACK**"
      ],
      "metadata": {
        "id": "yZVZDvDCvAWu"
      }
    },
    {
      "cell_type": "code",
      "source": [
        "class Stack:\n",
        "    arr=[]\n",
        "    new_arr=[]\n",
        "    def push(self,ele):\n",
        "        self.arr.append(ele)\n",
        "    def pop(self):\n",
        "        y=self.arr.pop()\n",
        "        return y\n",
        "s=Stack()\n",
        "s.push(10)\n",
        "s.push(20)\n",
        "s.push(30)\n",
        "s.push(40)\n",
        "s.push(50)\n",
        "print(s.arr)\n",
        "for i in range(0,len(s.arr)//2):\n",
        "    s.pop()\n",
        "print(s.arr)\n",
        "for i in range(len(s.arr)):\n",
        "    x=s.pop()\n",
        "    s.new_arr.append(x)\n",
        "print(s.new_arr)"
      ],
      "metadata": {
        "colab": {
          "base_uri": "https://localhost:8080/"
        },
        "id": "66F660PXvJ2a",
        "outputId": "066a13ad-bbb9-4420-e516-4841fbcd627c"
      },
      "execution_count": null,
      "outputs": [
        {
          "output_type": "stream",
          "name": "stdout",
          "text": [
            "[10, 20, 30, 40, 50]\n",
            "[10, 20, 30]\n",
            "[30, 20, 10]\n"
          ]
        }
      ]
    },
    {
      "cell_type": "markdown",
      "source": [
        "**REVERSING THE SECOND HALF OF THE QUEUE**"
      ],
      "metadata": {
        "id": "lnQHIr4QvWrT"
      }
    },
    {
      "cell_type": "code",
      "source": [
        "class Queue:\n",
        "    arr=[]\n",
        "    def enqueue(self,ele):\n",
        "        self.arr.append(ele)\n",
        "    def dequeue(self):\n",
        "        self.arr.pop(0)\n",
        "        return\n",
        "q=Queue()\n",
        "q.enqueue(10)\n",
        "q.enqueue(20)\n",
        "q.enqueue(30)\n",
        "q.enqueue(40)\n",
        "q.enqueue(50)\n",
        "print(q.arr)\n",
        "for i in range(len(q.arr)//2):\n",
        "    q.dequeue()\n",
        "print(q.arr)\n",
        "print(q.arr[::-1])        "
      ],
      "metadata": {
        "colab": {
          "base_uri": "https://localhost:8080/"
        },
        "id": "SJjqb1q_vdnn",
        "outputId": "a9e4c2d0-5617-4d79-b5d9-6c757580efef"
      },
      "execution_count": null,
      "outputs": [
        {
          "output_type": "stream",
          "name": "stdout",
          "text": [
            "[10, 20, 30, 40, 50]\n",
            "[30, 40, 50]\n",
            "[50, 40, 30]\n"
          ]
        }
      ]
    },
    {
      "cell_type": "markdown",
      "source": [
        "**PROGRAM TO CHECK WHETHER THE GIVEN STRING IS BALANCED OR NOT-USING SINGLE PARANTHESIS**"
      ],
      "metadata": {
        "id": "LqTeLMYBvp5L"
      }
    },
    {
      "cell_type": "code",
      "source": [
        "s=input(\"Enter the string\")\n",
        "stack=[]\n",
        "flag=True\n",
        "for i in s:\n",
        "    if i=='(':\n",
        "        stack.append(i)\n",
        "    elif i==')' and len(stack)!=0:\n",
        "        stack.pop()\n",
        "    else:\n",
        "        flag=False\n",
        "        break\n",
        "if flag==True and len(stack)==0:\n",
        "    print(\"BALANCED STRING\")\n",
        "else:\n",
        "    print(\"IMBALANCED STRING\")"
      ],
      "metadata": {
        "colab": {
          "base_uri": "https://localhost:8080/"
        },
        "id": "mpiTmeTjvsOE",
        "outputId": "24681ec7-bf1e-428b-87cf-826935ffb67b"
      },
      "execution_count": null,
      "outputs": [
        {
          "output_type": "stream",
          "name": "stdout",
          "text": [
            "Enter the string()))(\n",
            "IMBALANCED STRING\n"
          ]
        }
      ]
    },
    {
      "cell_type": "markdown",
      "source": [
        "**LINKED LIST**"
      ],
      "metadata": {
        "id": "m_a8kfP2v1qz"
      }
    },
    {
      "cell_type": "code",
      "source": [
        "class Node:\n",
        "    def __init__(self,value):\n",
        "        self.data=value\n",
        "        self.next=None\n",
        "class LinkedList:\n",
        "    def add_ele_at_start(self,head,value):\n",
        "        new_node=Node(value)\n",
        "        new_node.next=head\n",
        "        head=new_node\n",
        "        return head\n",
        "    def add_ele_at_pos(self,head,value,pos):\n",
        "        new_node=Node(value)\n",
        "        curr=head\n",
        "        prev=None\n",
        "        while pos!=0:\n",
        "            prev=curr\n",
        "            curr=curr.next\n",
        "            pos-=1\n",
        "        prev.next=new_node\n",
        "        new_node.next=curr\n",
        "    def add_ele_at_end(self,head,value):\n",
        "        new_node=Node(value)   #step-1\n",
        "        temp=head\n",
        "        while temp.next!=None: #step-2\n",
        "            temp=temp.next\n",
        "        temp.next=new_node     #step-3\n",
        "    def remove_ele_at_start(self,head):\n",
        "        pass\n",
        "    def remove_ele_at_pos(self,head,pos):\n",
        "        temp=head\n",
        "        while pos!=1:\n",
        "            temp=temp.next\n",
        "            pos-=1\n",
        "        temp.next=temp.next.next   \n",
        "    def remove_ele_at_end(self):\n",
        "        temp=head\n",
        "        while temp.next.next!=None: #step-1 \n",
        "            temp=temp.next\n",
        "        temp.next=None              #step-2\n",
        "    def print_list(self,head):\n",
        "        temp=head\n",
        "        while temp!=None:\n",
        "            print(temp.data,end=\"->\")\n",
        "            temp=temp.next\n",
        "        print()\n",
        "    def print_rev_list(self,head):\n",
        "        curr=head\n",
        "        prev=None\n",
        "        while curr!=None:\n",
        "            temp=curr.next\n",
        "            curr.next=prev\n",
        "            prev=curr\n",
        "            curr=temp\n",
        "        return prev\n",
        "    def search_element(self,value):\n",
        "        pass\n",
        "obj=LinkedList()\n",
        "head=Node(10)\n",
        "obj.add_ele_at_end(head,20)\n",
        "obj.add_ele_at_end(head,30)\n",
        "obj.add_ele_at_end(head,40)\n",
        "print(\"The list is:\")\n",
        "obj.print_list(head)\n",
        "head=obj.add_ele_at_start(head,50)\n",
        "print(\"List after adding ele at the beginning:\")\n",
        "obj.print_list(head)\n",
        "obj.add_ele_at_pos(head,100,3)\n",
        "print(\"List after adding element at given position:\")\n",
        "obj.print_list(head)\n",
        "head=obj.print_rev_list(head)\n",
        "print(\"Reverse of the list:\")\n",
        "obj.print_list(head)\n",
        "obj.remove_ele_at_end()\n",
        "print(\"List after removing element at the end:\")\n",
        "obj.print_list(head)\n",
        "obj.remove_ele_at_pos(head,2)\n",
        "print(\"List after removing element at given position:\")\n",
        "obj.print_list(head)"
      ],
      "metadata": {
        "colab": {
          "base_uri": "https://localhost:8080/"
        },
        "id": "glYfkJ00v4ap",
        "outputId": "7d3a3153-f1f9-41e0-82aa-8454f565da56"
      },
      "execution_count": null,
      "outputs": [
        {
          "output_type": "stream",
          "name": "stdout",
          "text": [
            "The list is:\n",
            "10->20->30->40->\n",
            "List after adding ele at the beginning:\n",
            "50->10->20->30->40->\n",
            "List after adding element at given position:\n",
            "50->10->20->100->30->40->\n",
            "Reverse of the list:\n",
            "40->30->100->20->10->50->\n",
            "List after removing element at the end:\n",
            "40->30->100->20->10->\n",
            "List after removing element at given position:\n",
            "40->30->20->10->\n"
          ]
        }
      ]
    },
    {
      "cell_type": "markdown",
      "source": [
        "**LINKED LIST BY TAKING USER INPUT**"
      ],
      "metadata": {
        "id": "Z1ySUo9GwFBZ"
      }
    },
    {
      "cell_type": "code",
      "source": [
        "class Node:\n",
        "    def __init__(self,value):\n",
        "        self.data=value\n",
        "        self.next=None\n",
        "class LinkedList:\n",
        "    def add_ele_at_start(self,head,value):\n",
        "        new_node=Node(value)\n",
        "        new_node.next=head\n",
        "        head=new_node\n",
        "        return head\n",
        "    def add_ele_at_pos(self,head,value,pos):\n",
        "        new_node=Node(value)\n",
        "        curr=head\n",
        "        prev=None\n",
        "        while pos!=0:\n",
        "            prev=curr\n",
        "            curr=curr.next\n",
        "            pos-=1\n",
        "        prev.next=new_node\n",
        "        new_node.next=curr\n",
        "    def add_ele_at_end(self,head,value):\n",
        "        new_node=Node(value)   #step-1\n",
        "        temp=head\n",
        "        while temp.next!=None: #step-2\n",
        "            temp=temp.next\n",
        "        temp.next=new_node     #step-3\n",
        "    def remove_ele_at_end(self):\n",
        "        temp=head\n",
        "        while temp.next.next!=None: #step-1 \n",
        "            temp=temp.next\n",
        "        temp.next=None              #step-2\n",
        "    def print_list(self,head):\n",
        "        temp=head\n",
        "        while temp!=None:\n",
        "            print(temp.data,end=\"->\")\n",
        "            temp=temp.next\n",
        "    def search_element(self,value):\n",
        "        pass\n",
        "obj=LinkedList()\n",
        "ele1=int(input())\n",
        "ele2=int(input())\n",
        "ele3=int(input())\n",
        "ele4=int(input())\n",
        "ele5=int(input())\n",
        "head=Node(ele1)\n",
        "obj.add_ele_at_end(head,ele2)\n",
        "obj.add_ele_at_end(head,ele3)\n",
        "obj.add_ele_at_end(head,ele4)\n",
        "obj.add_ele_at_end(head,ele5)\n",
        "obj.print_list(head)"
      ],
      "metadata": {
        "colab": {
          "base_uri": "https://localhost:8080/"
        },
        "id": "kWnqE1bKwJFW",
        "outputId": "21db92a0-1fb8-448d-cb26-01fda5c17974"
      },
      "execution_count": null,
      "outputs": [
        {
          "output_type": "stream",
          "name": "stdout",
          "text": [
            "1\n",
            "2\n",
            "3\n",
            "4\n",
            "5\n",
            "1->2->3->4->5->"
          ]
        }
      ]
    }
  ]
}