{
  "nbformat": 4,
  "nbformat_minor": 0,
  "metadata": {
    "colab": {
      "provenance": []
    },
    "kernelspec": {
      "name": "python3",
      "display_name": "Python 3"
    },
    "language_info": {
      "name": "python"
    }
  },
  "cells": [
    {
      "cell_type": "markdown",
      "source": [
        "**DATA STRUCTURES**\n",
        "\n",
        "\n",
        "LINEAR\n",
        "\n",
        "*   Stack\n",
        "*   Queue\n",
        "*   Linked list\n",
        "*   Double linked list\n",
        "\n",
        "\n",
        "\n",
        "\n",
        "NON-LINEAR\n",
        "\n",
        "*   Trees\n",
        "*   Graphs"
      ],
      "metadata": {
        "id": "5BuV6h0XomP6"
      }
    },
    {
      "cell_type": "markdown",
      "source": [
        "**STACK**"
      ],
      "metadata": {
        "id": "oDR9euEmplG7"
      }
    },
    {
      "cell_type": "code",
      "source": [
        "class Stack:\n",
        "    arr=[]\n",
        "    size=5\n",
        "    def stack_push(self,element):\n",
        "        if len(self.arr)<self.size:\n",
        "            self.arr.append(element)\n",
        "        else:\n",
        "            print(\"Stack overflow\")\n",
        "    def stack_pop(self):\n",
        "        if len(self.arr)>0:\n",
        "            self.arr.pop()\n",
        "        else:\n",
        "            print(\"Stack Underflow\")\n",
        "    def stack_peek(self):\n",
        "        if len(self.arr)>0:\n",
        "            return self.arr[-1]\n",
        "        else:\n",
        "            print(\"No elements in the stack\")\n",
        "    def isEmpty(self):\n",
        "        if len(self.arr)==0:\n",
        "            return True\n",
        "        else:\n",
        "            return False\n",
        "s=Stack()\n",
        "s.stack_push(10)\n",
        "s.stack_push(20)\n",
        "s.stack_push(30)\n",
        "s.stack_push(40)\n",
        "s.stack_push(50)\n",
        "print(s.arr)\n",
        "s.stack_push(60)\n",
        "s.stack_pop()\n",
        "s.stack_pop()\n",
        "s.stack_pop()\n",
        "print(s.arr)\n",
        "print(s.stack_peek())\n",
        "s.stack_pop()\n",
        "s.stack_pop()\n",
        "print(s.isEmpty())\n",
        "s.stack_pop()\n",
        "s.stack_peek()"
      ],
      "metadata": {
        "colab": {
          "base_uri": "https://localhost:8080/"
        },
        "id": "H-r8cJwDpojQ",
        "outputId": "54390b98-8019-4190-ffae-c76703d04838"
      },
      "execution_count": null,
      "outputs": [
        {
          "output_type": "stream",
          "name": "stdout",
          "text": [
            "[10, 20, 30, 40, 50]\n",
            "Stack overflow\n",
            "[10, 20]\n",
            "20\n",
            "True\n",
            "Stack Underflow\n",
            "No elements in the stack\n"
          ]
        }
      ]
    },
    {
      "cell_type": "markdown",
      "source": [
        "**REMOVING ELEMENTS FROM THE FRONT OF THE STACK AND PRINTING**"
      ],
      "metadata": {
        "id": "e5-FwgkYp1Z_"
      }
    },
    {
      "cell_type": "code",
      "source": [
        "class Stack:\n",
        "    arr=[]\n",
        "    a1=[]\n",
        "    size=5\n",
        "    def stack_push(self,element):\n",
        "        if len(self.arr)<self.size:\n",
        "            self.arr.append(element)\n",
        "        else:\n",
        "            print(\"Stack overflow\")\n",
        "    def stack_pop(self):\n",
        "        if len(self.arr)>0:\n",
        "            x=self.arr.pop()\n",
        "            self.a1.append(x)\n",
        "        else:\n",
        "            print(\"Stack Underflow\")\n",
        "        return self.a1\n",
        "    def stack_peek(self):\n",
        "        if len(self.arr)>0:\n",
        "            return self.arr[-1]\n",
        "        else:\n",
        "            print(\"No elements in the stack\")\n",
        "    def isEmpty(self):\n",
        "        if len(self.arr)==0:\n",
        "            return True\n",
        "        else:\n",
        "            return False\n",
        "s=Stack()\n",
        "s.stack_push(1)\n",
        "s.stack_push(2)\n",
        "s.stack_push(3)\n",
        "s.stack_push(4)\n",
        "s.stack_push(5)\n",
        "print(s.arr)\n",
        "for i in range(len(s.arr)):\n",
        "    s.stack_pop()\n",
        "print(s.a1[::-1])"
      ],
      "metadata": {
        "colab": {
          "base_uri": "https://localhost:8080/"
        },
        "id": "NmBzUDF4p_tN",
        "outputId": "ab8617f6-c713-49bf-9b62-b44221626888"
      },
      "execution_count": null,
      "outputs": [
        {
          "output_type": "stream",
          "name": "stdout",
          "text": [
            "[1, 2, 3, 4, 5]\n",
            "[1, 2, 3, 4, 5]\n"
          ]
        }
      ]
    },
    {
      "cell_type": "markdown",
      "source": [
        "**QUEUE**"
      ],
      "metadata": {
        "id": "ATZD873dqPsC"
      }
    },
    {
      "cell_type": "code",
      "source": [
        "class Queue:\n",
        "    arr=[]\n",
        "    size=5\n",
        "    def enqueue(self,element):\n",
        "        if len(self.arr)<self.size:\n",
        "            self.arr.append(element)\n",
        "        else:\n",
        "            print(\"Queue overflow\")\n",
        "    def dequeue(self):\n",
        "        if len(self.arr)>0:\n",
        "            self.arr.pop(0)\n",
        "        else:\n",
        "            print(\"Queue Underflow\")\n",
        "q=Queue()\n",
        "q.enqueue(10)\n",
        "q.enqueue(20)\n",
        "q.enqueue(30)\n",
        "q.enqueue(40)\n",
        "q.enqueue(50)\n",
        "print(q.arr)\n",
        "q.enqueue(60)\n",
        "q.dequeue()\n",
        "q.dequeue()\n",
        "q.dequeue()\n",
        "print(q.arr)\n",
        "q.dequeue()\n",
        "q.dequeue()\n",
        "q.dequeue()"
      ],
      "metadata": {
        "colab": {
          "base_uri": "https://localhost:8080/"
        },
        "id": "WV_DPJQ3qTFf",
        "outputId": "6fd25d11-cce2-466e-f238-57ec4c134aee"
      },
      "execution_count": null,
      "outputs": [
        {
          "output_type": "stream",
          "name": "stdout",
          "text": [
            "[10, 20, 30, 40, 50]\n",
            "Queue overflow\n",
            "[40, 50]\n",
            "Queue Underflow\n"
          ]
        }
      ]
    },
    {
      "cell_type": "markdown",
      "source": [
        "**IMPLEMENTING FUNCTIONALITY OF STACK USING QUEUE**"
      ],
      "metadata": {
        "id": "Yk8cXWYCqbmo"
      }
    },
    {
      "cell_type": "markdown",
      "source": [
        "**LINEAR SEARCH**"
      ],
      "metadata": {
        "id": "HDMnzbuGqp9K"
      }
    },
    {
      "cell_type": "code",
      "source": [
        "arr=[1,2,3,4,5]\n",
        "key=4\n",
        "n=len(arr)\n",
        "for i in range(n):\n",
        "    if arr[i]==key:\n",
        "        print(\"key is found at\",i)"
      ],
      "metadata": {
        "colab": {
          "base_uri": "https://localhost:8080/"
        },
        "id": "A9hxr5OSqtXy",
        "outputId": "0dae3939-2d94-4fa2-8f0b-804874f5e0ba"
      },
      "execution_count": null,
      "outputs": [
        {
          "output_type": "stream",
          "name": "stdout",
          "text": [
            "key is found at 3\n"
          ]
        }
      ]
    },
    {
      "cell_type": "markdown",
      "source": [
        "**TIME COMPLEXITY**\n",
        "\n",
        "(1)single for loop:\n",
        "\n",
        "    for i in range(n):\n",
        "    {\n",
        "    }\n",
        "\n",
        "Time complexity=O(n)\n",
        "\n",
        "\n",
        "\n",
        "(2)nested for loop:\n",
        "\n",
        "    for i in range(n):\n",
        "    {\n",
        "      for j in range(n):\n",
        "      {\n",
        "      }\n",
        "    }\n",
        "\n",
        "Time complexity=O(n^2)\n",
        "\n",
        "(3)Avoid constants while writing time complexity\n",
        "   \n",
        "    for i in range(n):\n",
        "    {\n",
        "    }\n",
        "    for j in range(n):\n",
        "    {\n",
        "    }\n",
        "\n",
        "Time complexity=O(n)+O(n)=2.O(n)\n",
        "\n",
        "Here the constant 2 should be avoided\n",
        "\n",
        "So, Time complexity=O(n)\n",
        "\n",
        "    for i in range(n):\n",
        "    {\n",
        "       for j in range(n/2):\n",
        "       {\n",
        "       }\n",
        "    }\n",
        "\n",
        "Time complexity= O(n)O(n/2) = (O(n^2))/2 = O(n^2)\n",
        "\n",
        "(4)If the iterative object is getting multipled or divided for each iteration use log\n",
        "\n",
        "    for(i=0;i<n;i=i/2):\n",
        "    {\n",
        "    }\n",
        "Time complexity = O(logn)\n",
        "\n",
        "    for(i=0;i<n;i++):\n",
        "    {\n",
        "       for(j=0;j<n;j=j/2)\n",
        "       {\n",
        "       }\n",
        "    }\n",
        "Time complexity = O(nlogn)\n"
      ],
      "metadata": {
        "id": "gsKWHyLUqzI5"
      }
    },
    {
      "cell_type": "markdown",
      "source": [
        "**LINEAR SEARCH USING STACK**"
      ],
      "metadata": {
        "id": "gC3JsB88umHh"
      }
    },
    {
      "cell_type": "code",
      "source": [
        "class Stack:\n",
        "    arr=[]\n",
        "    a1=[]\n",
        "    size=5\n",
        "    def stack_push(self,element):\n",
        "        if len(self.arr)<self.size:\n",
        "            self.arr.append(element)\n",
        "        else:\n",
        "            print(\"Stack overflow\")\n",
        "    def stack_pop(self):\n",
        "        if len(self.arr)>0:\n",
        "            x=self.arr.pop()\n",
        "            self.a1.append(x)\n",
        "        else:\n",
        "            print(\"Stack Underflow\")\n",
        "        return self.a1\n",
        "s=Stack()\n",
        "s.stack_push(1)\n",
        "s.stack_push(2)\n",
        "s.stack_push(3)\n",
        "s.stack_push(4)\n",
        "s.stack_push(5)\n",
        "print(s.arr)\n",
        "key=4\n",
        "print(s.a1)\n",
        "for i in range(s.size):\n",
        "    s.stack_pop()\n",
        "for i in range(s.size,-1):\n",
        "    s.stack_push(a1(i))\n",
        "    if s.a1[i]==key:\n",
        "        print(\"key is found\")\n",
        "        break"
      ],
      "metadata": {
        "colab": {
          "base_uri": "https://localhost:8080/"
        },
        "id": "4F4DBR3Furzd",
        "outputId": "0e926520-0472-4af7-a775-eb7a1e3885d4"
      },
      "execution_count": null,
      "outputs": [
        {
          "output_type": "stream",
          "name": "stdout",
          "text": [
            "[1, 2, 3, 4, 5]\n",
            "[]\n"
          ]
        }
      ]
    },
    {
      "cell_type": "markdown",
      "source": [
        "**BINARY SEARCH**"
      ],
      "metadata": {
        "id": "wCg6fre1vHjq"
      }
    },
    {
      "cell_type": "code",
      "source": [
        "n=int(input())\n",
        "arr=list(map(int,input().split()))[:n]\n",
        "key=int(input())\n",
        "arr.sort()\n",
        "high=n\n",
        "low=0\n",
        "mid=(low+high)//2\n",
        "while low<high:\n",
        "    if key==arr[mid]:\n",
        "        print(\"Key is present at\",mid)\n",
        "        break\n",
        "    elif key>arr[mid]:\n",
        "        low=mid+1\n",
        "        high=n\n",
        "        mid=(low+high)//2\n",
        "    elif key<arr[mid]:\n",
        "        low=0\n",
        "        high=mid-1\n",
        "        mid=(low+high)//2\n",
        "else:\n",
        "    print(\"Key is not found\")"
      ],
      "metadata": {
        "colab": {
          "base_uri": "https://localhost:8080/"
        },
        "id": "Cvrz2dM-vKt6",
        "outputId": "40bdd86e-9a93-4770-d29e-0244703b5b7a"
      },
      "execution_count": null,
      "outputs": [
        {
          "output_type": "stream",
          "name": "stdout",
          "text": [
            "5\n",
            "5 3 1 4 2\n",
            "4\n",
            "Key is present at 3\n"
          ]
        }
      ]
    },
    {
      "cell_type": "code",
      "source": [
        "arr=[i for i in range(1,11)]\n",
        "print(arr)\n",
        "key=3\n",
        "low=0\n",
        "high=len(arr)-1\n",
        "found=False\n",
        "while low<=high:\n",
        "    mid=(low+high)//2\n",
        "    if arr[mid]==key:\n",
        "        print(\"Element is found\",mid)\n",
        "        found=True\n",
        "        break\n",
        "    elif key<arr[mid]:\n",
        "        high=mid-1\n",
        "    else:\n",
        "        low=mid+1\n",
        "if found==False:\n",
        "    print(\"Element is not found\")"
      ],
      "metadata": {
        "colab": {
          "base_uri": "https://localhost:8080/"
        },
        "id": "zR7v1jnRvZBa",
        "outputId": "eb9c6352-a553-4673-eb2c-547271e35997"
      },
      "execution_count": null,
      "outputs": [
        {
          "output_type": "stream",
          "name": "stdout",
          "text": [
            "[1, 2, 3, 4, 5, 6, 7, 8, 9, 10]\n",
            "Element is found 2\n"
          ]
        }
      ]
    },
    {
      "cell_type": "markdown",
      "source": [
        "**BINARY SEARCH USING RECURSIVE FUNCTION**"
      ],
      "metadata": {
        "id": "5tPXPhrQvfzq"
      }
    },
    {
      "cell_type": "code",
      "source": [
        "def binary_search(arr,low,high,key):\n",
        "    while low<=high:\n",
        "        mid=(low+high)//2\n",
        "        if arr[mid]==key:\n",
        "            print(\"Element is found\",mid)\n",
        "            return\n",
        "        elif key<arr[mid]:\n",
        "            high=mid-1\n",
        "            return binary_search(arr,low,high,key)\n",
        "        else:\n",
        "            low=mid+1\n",
        "            return binary_search(arr,low,high,key)\n",
        "    else:\n",
        "        print(\"Element is not found\")\n",
        "arr=[i for i in range(1,11)]\n",
        "print(arr)\n",
        "key=int(input())\n",
        "low=0\n",
        "high=len(arr)-1\n",
        "binary_search(arr,low,high,key)"
      ],
      "metadata": {
        "colab": {
          "base_uri": "https://localhost:8080/"
        },
        "id": "DMD_-geBvni-",
        "outputId": "750ab0b8-e17b-4378-b884-75f7005df230"
      },
      "execution_count": null,
      "outputs": [
        {
          "output_type": "stream",
          "name": "stdout",
          "text": [
            "[1, 2, 3, 4, 5, 6, 7, 8, 9, 10]\n",
            "12\n",
            "Element is not found\n"
          ]
        }
      ]
    }
  ]
}